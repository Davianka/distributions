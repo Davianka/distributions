{
 "cells": [
  {
   "cell_type": "code",
   "execution_count": 1,
   "id": "7191823b",
   "metadata": {},
   "outputs": [],
   "source": [
    "import pandas as pd\n",
    "import numpy as np\n",
    "import matplotlib.pyplot as plt\n",
    "import seaborn as sns\n",
    "from sklearn.preprocessing import StandardScaler\n",
    "from scipy import stats"
   ]
  },
  {
   "cell_type": "code",
   "execution_count": 2,
   "id": "8c8c656e",
   "metadata": {},
   "outputs": [
    {
     "data": {
      "text/html": [
       "<div>\n",
       "<style scoped>\n",
       "    .dataframe tbody tr th:only-of-type {\n",
       "        vertical-align: middle;\n",
       "    }\n",
       "\n",
       "    .dataframe tbody tr th {\n",
       "        vertical-align: top;\n",
       "    }\n",
       "\n",
       "    .dataframe thead th {\n",
       "        text-align: right;\n",
       "    }\n",
       "</style>\n",
       "<table border=\"1\" class=\"dataframe\">\n",
       "  <thead>\n",
       "    <tr style=\"text-align: right;\">\n",
       "      <th></th>\n",
       "      <th>State</th>\n",
       "      <th>Lat</th>\n",
       "      <th>Lng</th>\n",
       "      <th>Area</th>\n",
       "      <th>Children</th>\n",
       "      <th>Age</th>\n",
       "      <th>Income</th>\n",
       "      <th>Marital</th>\n",
       "      <th>Gender</th>\n",
       "      <th>ReAdmis</th>\n",
       "      <th>...</th>\n",
       "      <th>Hyperlipidemia</th>\n",
       "      <th>BackPain</th>\n",
       "      <th>Anxiety</th>\n",
       "      <th>Allergic_rhinitis</th>\n",
       "      <th>Reflux_esophagitis</th>\n",
       "      <th>Asthma</th>\n",
       "      <th>Services</th>\n",
       "      <th>Initial_days</th>\n",
       "      <th>TotalCharge</th>\n",
       "      <th>Additional_charges</th>\n",
       "    </tr>\n",
       "  </thead>\n",
       "  <tbody>\n",
       "    <tr>\n",
       "      <th>0</th>\n",
       "      <td>AL</td>\n",
       "      <td>34.34960</td>\n",
       "      <td>-86.72508</td>\n",
       "      <td>Suburban</td>\n",
       "      <td>1.0</td>\n",
       "      <td>53</td>\n",
       "      <td>86575.93</td>\n",
       "      <td>Divorced</td>\n",
       "      <td>Male</td>\n",
       "      <td>0</td>\n",
       "      <td>...</td>\n",
       "      <td>0.0</td>\n",
       "      <td>1.0</td>\n",
       "      <td>1.0</td>\n",
       "      <td>1.0</td>\n",
       "      <td>0</td>\n",
       "      <td>1</td>\n",
       "      <td>Blood Work</td>\n",
       "      <td>10.585770</td>\n",
       "      <td>3726.702860</td>\n",
       "      <td>17939.403420</td>\n",
       "    </tr>\n",
       "    <tr>\n",
       "      <th>1</th>\n",
       "      <td>FL</td>\n",
       "      <td>30.84513</td>\n",
       "      <td>-85.22907</td>\n",
       "      <td>Urban</td>\n",
       "      <td>3.0</td>\n",
       "      <td>51</td>\n",
       "      <td>46805.99</td>\n",
       "      <td>Married</td>\n",
       "      <td>Female</td>\n",
       "      <td>0</td>\n",
       "      <td>...</td>\n",
       "      <td>0.0</td>\n",
       "      <td>0.0</td>\n",
       "      <td>0.0</td>\n",
       "      <td>0.0</td>\n",
       "      <td>1</td>\n",
       "      <td>0</td>\n",
       "      <td>Intravenous</td>\n",
       "      <td>15.129562</td>\n",
       "      <td>4193.190458</td>\n",
       "      <td>17612.998120</td>\n",
       "    </tr>\n",
       "    <tr>\n",
       "      <th>2</th>\n",
       "      <td>SD</td>\n",
       "      <td>43.54321</td>\n",
       "      <td>-96.63772</td>\n",
       "      <td>Suburban</td>\n",
       "      <td>3.0</td>\n",
       "      <td>53</td>\n",
       "      <td>14370.14</td>\n",
       "      <td>Widowed</td>\n",
       "      <td>Female</td>\n",
       "      <td>0</td>\n",
       "      <td>...</td>\n",
       "      <td>0.0</td>\n",
       "      <td>0.0</td>\n",
       "      <td>0.0</td>\n",
       "      <td>0.0</td>\n",
       "      <td>0</td>\n",
       "      <td>0</td>\n",
       "      <td>Blood Work</td>\n",
       "      <td>4.772177</td>\n",
       "      <td>2434.234222</td>\n",
       "      <td>17505.192460</td>\n",
       "    </tr>\n",
       "    <tr>\n",
       "      <th>3</th>\n",
       "      <td>MN</td>\n",
       "      <td>43.89744</td>\n",
       "      <td>-93.51479</td>\n",
       "      <td>Suburban</td>\n",
       "      <td>0.0</td>\n",
       "      <td>78</td>\n",
       "      <td>39741.49</td>\n",
       "      <td>Married</td>\n",
       "      <td>Male</td>\n",
       "      <td>0</td>\n",
       "      <td>...</td>\n",
       "      <td>0.0</td>\n",
       "      <td>0.0</td>\n",
       "      <td>0.0</td>\n",
       "      <td>0.0</td>\n",
       "      <td>1</td>\n",
       "      <td>1</td>\n",
       "      <td>Blood Work</td>\n",
       "      <td>1.714879</td>\n",
       "      <td>2127.830423</td>\n",
       "      <td>12993.437350</td>\n",
       "    </tr>\n",
       "    <tr>\n",
       "      <th>4</th>\n",
       "      <td>VA</td>\n",
       "      <td>37.59894</td>\n",
       "      <td>-76.88958</td>\n",
       "      <td>Rural</td>\n",
       "      <td>1.0</td>\n",
       "      <td>22</td>\n",
       "      <td>1209.56</td>\n",
       "      <td>Widowed</td>\n",
       "      <td>Female</td>\n",
       "      <td>0</td>\n",
       "      <td>...</td>\n",
       "      <td>1.0</td>\n",
       "      <td>0.0</td>\n",
       "      <td>0.0</td>\n",
       "      <td>1.0</td>\n",
       "      <td>0</td>\n",
       "      <td>0</td>\n",
       "      <td>CT Scan</td>\n",
       "      <td>1.254807</td>\n",
       "      <td>2113.073274</td>\n",
       "      <td>3716.525786</td>\n",
       "    </tr>\n",
       "  </tbody>\n",
       "</table>\n",
       "<p>5 rows × 32 columns</p>\n",
       "</div>"
      ],
      "text/plain": [
       "  State       Lat       Lng      Area  Children  Age    Income   Marital  \\\n",
       "0    AL  34.34960 -86.72508  Suburban       1.0   53  86575.93  Divorced   \n",
       "1    FL  30.84513 -85.22907     Urban       3.0   51  46805.99   Married   \n",
       "2    SD  43.54321 -96.63772  Suburban       3.0   53  14370.14   Widowed   \n",
       "3    MN  43.89744 -93.51479  Suburban       0.0   78  39741.49   Married   \n",
       "4    VA  37.59894 -76.88958     Rural       1.0   22   1209.56   Widowed   \n",
       "\n",
       "   Gender  ReAdmis  ...  Hyperlipidemia  BackPain  Anxiety  Allergic_rhinitis  \\\n",
       "0    Male        0  ...             0.0       1.0      1.0                1.0   \n",
       "1  Female        0  ...             0.0       0.0      0.0                0.0   \n",
       "2  Female        0  ...             0.0       0.0      0.0                0.0   \n",
       "3    Male        0  ...             0.0       0.0      0.0                0.0   \n",
       "4  Female        0  ...             1.0       0.0      0.0                1.0   \n",
       "\n",
       "   Reflux_esophagitis Asthma     Services  Initial_days  TotalCharge  \\\n",
       "0                   0      1   Blood Work     10.585770  3726.702860   \n",
       "1                   1      0  Intravenous     15.129562  4193.190458   \n",
       "2                   0      0   Blood Work      4.772177  2434.234222   \n",
       "3                   1      1   Blood Work      1.714879  2127.830423   \n",
       "4                   0      0      CT Scan      1.254807  2113.073274   \n",
       "\n",
       "   Additional_charges  \n",
       "0        17939.403420  \n",
       "1        17612.998120  \n",
       "2        17505.192460  \n",
       "3        12993.437350  \n",
       "4         3716.525786  \n",
       "\n",
       "[5 rows x 32 columns]"
      ]
     },
     "execution_count": 2,
     "metadata": {},
     "output_type": "execute_result"
    }
   ],
   "source": [
    "df = pd.read_csv('/Users/daviankalopez/Documents/DataEnrichment/data CORE.csv',header=1)\n",
    "df.head()"
   ]
  },
  {
   "cell_type": "code",
   "execution_count": 3,
   "id": "2b1a3bcf",
   "metadata": {
    "scrolled": true
   },
   "outputs": [
    {
     "name": "stdout",
     "output_type": "stream",
     "text": [
      "<class 'pandas.core.frame.DataFrame'>\n",
      "RangeIndex: 1000 entries, 0 to 999\n",
      "Data columns (total 32 columns):\n",
      " #   Column              Non-Null Count  Dtype  \n",
      "---  ------              --------------  -----  \n",
      " 0   State               995 non-null    object \n",
      " 1   Lat                 1000 non-null   float64\n",
      " 2   Lng                 1000 non-null   float64\n",
      " 3   Area                995 non-null    object \n",
      " 4   Children            993 non-null    float64\n",
      " 5   Age                 1000 non-null   int64  \n",
      " 6   Income              1000 non-null   float64\n",
      " 7   Marital             995 non-null    object \n",
      " 8   Gender              995 non-null    object \n",
      " 9   ReAdmis             1000 non-null   int64  \n",
      " 10  VitD_levels         1000 non-null   float64\n",
      " 11  Doc_visits          1000 non-null   int64  \n",
      " 12  Full_meals_eaten    1000 non-null   int64  \n",
      " 13  vitD_supp           1000 non-null   int64  \n",
      " 14  Soft_drink          1000 non-null   int64  \n",
      " 15  Initial_admin       995 non-null    object \n",
      " 16  HighBlood           1000 non-null   int64  \n",
      " 17  Stroke              1000 non-null   int64  \n",
      " 18  Complication_risk   995 non-null    object \n",
      " 19  Overweight          1000 non-null   int64  \n",
      " 20  Arthritis           994 non-null    float64\n",
      " 21  Diabetes            994 non-null    float64\n",
      " 22  Hyperlipidemia      998 non-null    float64\n",
      " 23  BackPain            992 non-null    float64\n",
      " 24  Anxiety             998 non-null    float64\n",
      " 25  Allergic_rhinitis   994 non-null    float64\n",
      " 26  Reflux_esophagitis  1000 non-null   int64  \n",
      " 27  Asthma              1000 non-null   int64  \n",
      " 28  Services            995 non-null    object \n",
      " 29  Initial_days        1000 non-null   float64\n",
      " 30  TotalCharge         1000 non-null   float64\n",
      " 31  Additional_charges  1000 non-null   float64\n",
      "dtypes: float64(14), int64(11), object(7)\n",
      "memory usage: 250.1+ KB\n"
     ]
    }
   ],
   "source": [
    "df.info()"
   ]
  },
  {
   "cell_type": "code",
   "execution_count": 4,
   "id": "4a2340bd",
   "metadata": {},
   "outputs": [
    {
     "data": {
      "text/plain": [
       "Index(['State', 'Area', 'Marital', 'Gender', 'Initial_admin',\n",
       "       'Complication_risk', 'Services'],\n",
       "      dtype='object')"
      ]
     },
     "execution_count": 4,
     "metadata": {},
     "output_type": "execute_result"
    }
   ],
   "source": [
    "dtypes = df.dtypes\n",
    "str_cols = dtypes[dtypes=='object'].index\n",
    "str_cols"
   ]
  },
  {
   "cell_type": "code",
   "execution_count": 5,
   "id": "e6e86ffd",
   "metadata": {},
   "outputs": [
    {
     "data": {
      "text/plain": [
       "(1000, 32)"
      ]
     },
     "execution_count": 5,
     "metadata": {},
     "output_type": "execute_result"
    }
   ],
   "source": [
    "df.shape"
   ]
  },
  {
   "cell_type": "code",
   "execution_count": 6,
   "id": "6762bcb4",
   "metadata": {},
   "outputs": [
    {
     "data": {
      "text/html": [
       "<div>\n",
       "<style scoped>\n",
       "    .dataframe tbody tr th:only-of-type {\n",
       "        vertical-align: middle;\n",
       "    }\n",
       "\n",
       "    .dataframe tbody tr th {\n",
       "        vertical-align: top;\n",
       "    }\n",
       "\n",
       "    .dataframe thead th {\n",
       "        text-align: right;\n",
       "    }\n",
       "</style>\n",
       "<table border=\"1\" class=\"dataframe\">\n",
       "  <thead>\n",
       "    <tr style=\"text-align: right;\">\n",
       "      <th></th>\n",
       "      <th>Lat</th>\n",
       "      <th>Lng</th>\n",
       "      <th>Children</th>\n",
       "      <th>Age</th>\n",
       "      <th>Income</th>\n",
       "      <th>ReAdmis</th>\n",
       "      <th>VitD_levels</th>\n",
       "      <th>Doc_visits</th>\n",
       "      <th>Full_meals_eaten</th>\n",
       "      <th>vitD_supp</th>\n",
       "      <th>...</th>\n",
       "      <th>Diabetes</th>\n",
       "      <th>Hyperlipidemia</th>\n",
       "      <th>BackPain</th>\n",
       "      <th>Anxiety</th>\n",
       "      <th>Allergic_rhinitis</th>\n",
       "      <th>Reflux_esophagitis</th>\n",
       "      <th>Asthma</th>\n",
       "      <th>Initial_days</th>\n",
       "      <th>TotalCharge</th>\n",
       "      <th>Additional_charges</th>\n",
       "    </tr>\n",
       "  </thead>\n",
       "  <tbody>\n",
       "    <tr>\n",
       "      <th>count</th>\n",
       "      <td>1000.000000</td>\n",
       "      <td>1000.000000</td>\n",
       "      <td>993.000000</td>\n",
       "      <td>1000.000000</td>\n",
       "      <td>1000.000000</td>\n",
       "      <td>1000.0</td>\n",
       "      <td>1000.000000</td>\n",
       "      <td>1000.000000</td>\n",
       "      <td>1000.000000</td>\n",
       "      <td>1000.000000</td>\n",
       "      <td>...</td>\n",
       "      <td>994.00000</td>\n",
       "      <td>998.000000</td>\n",
       "      <td>992.000000</td>\n",
       "      <td>998.000000</td>\n",
       "      <td>994.000000</td>\n",
       "      <td>1000.000000</td>\n",
       "      <td>1000.000000</td>\n",
       "      <td>1000.000000</td>\n",
       "      <td>1000.000000</td>\n",
       "      <td>1000.000000</td>\n",
       "    </tr>\n",
       "    <tr>\n",
       "      <th>mean</th>\n",
       "      <td>38.989277</td>\n",
       "      <td>-91.165542</td>\n",
       "      <td>2.103726</td>\n",
       "      <td>54.084000</td>\n",
       "      <td>40653.044950</td>\n",
       "      <td>0.0</td>\n",
       "      <td>17.992381</td>\n",
       "      <td>4.992000</td>\n",
       "      <td>1.024000</td>\n",
       "      <td>0.366000</td>\n",
       "      <td>...</td>\n",
       "      <td>0.28169</td>\n",
       "      <td>0.346693</td>\n",
       "      <td>0.414315</td>\n",
       "      <td>0.326653</td>\n",
       "      <td>0.396378</td>\n",
       "      <td>0.422000</td>\n",
       "      <td>0.308000</td>\n",
       "      <td>9.267176</td>\n",
       "      <td>3240.971613</td>\n",
       "      <td>13124.934863</td>\n",
       "    </tr>\n",
       "    <tr>\n",
       "      <th>std</th>\n",
       "      <td>5.504177</td>\n",
       "      <td>15.451957</td>\n",
       "      <td>2.239293</td>\n",
       "      <td>20.903203</td>\n",
       "      <td>28370.102213</td>\n",
       "      <td>0.0</td>\n",
       "      <td>2.056366</td>\n",
       "      <td>1.048349</td>\n",
       "      <td>1.013139</td>\n",
       "      <td>0.598667</td>\n",
       "      <td>...</td>\n",
       "      <td>0.45005</td>\n",
       "      <td>0.476156</td>\n",
       "      <td>0.492852</td>\n",
       "      <td>0.469224</td>\n",
       "      <td>0.489391</td>\n",
       "      <td>0.494126</td>\n",
       "      <td>0.461898</td>\n",
       "      <td>6.030931</td>\n",
       "      <td>600.413722</td>\n",
       "      <td>6677.691402</td>\n",
       "    </tr>\n",
       "    <tr>\n",
       "      <th>min</th>\n",
       "      <td>18.010230</td>\n",
       "      <td>-171.688150</td>\n",
       "      <td>0.000000</td>\n",
       "      <td>18.000000</td>\n",
       "      <td>154.080000</td>\n",
       "      <td>0.0</td>\n",
       "      <td>11.475314</td>\n",
       "      <td>2.000000</td>\n",
       "      <td>0.000000</td>\n",
       "      <td>0.000000</td>\n",
       "      <td>...</td>\n",
       "      <td>0.00000</td>\n",
       "      <td>0.000000</td>\n",
       "      <td>0.000000</td>\n",
       "      <td>0.000000</td>\n",
       "      <td>0.000000</td>\n",
       "      <td>0.000000</td>\n",
       "      <td>0.000000</td>\n",
       "      <td>1.012586</td>\n",
       "      <td>2022.650007</td>\n",
       "      <td>3241.339760</td>\n",
       "    </tr>\n",
       "    <tr>\n",
       "      <th>25%</th>\n",
       "      <td>35.673860</td>\n",
       "      <td>-96.840598</td>\n",
       "      <td>0.000000</td>\n",
       "      <td>36.750000</td>\n",
       "      <td>19295.567500</td>\n",
       "      <td>0.0</td>\n",
       "      <td>16.620469</td>\n",
       "      <td>4.000000</td>\n",
       "      <td>0.000000</td>\n",
       "      <td>0.000000</td>\n",
       "      <td>...</td>\n",
       "      <td>0.00000</td>\n",
       "      <td>0.000000</td>\n",
       "      <td>0.000000</td>\n",
       "      <td>0.000000</td>\n",
       "      <td>0.000000</td>\n",
       "      <td>0.000000</td>\n",
       "      <td>0.000000</td>\n",
       "      <td>4.518085</td>\n",
       "      <td>2822.108670</td>\n",
       "      <td>8121.383834</td>\n",
       "    </tr>\n",
       "    <tr>\n",
       "      <th>50%</th>\n",
       "      <td>39.524835</td>\n",
       "      <td>-88.242890</td>\n",
       "      <td>1.000000</td>\n",
       "      <td>55.000000</td>\n",
       "      <td>34222.550000</td>\n",
       "      <td>0.0</td>\n",
       "      <td>18.020163</td>\n",
       "      <td>5.000000</td>\n",
       "      <td>1.000000</td>\n",
       "      <td>0.000000</td>\n",
       "      <td>...</td>\n",
       "      <td>0.00000</td>\n",
       "      <td>0.000000</td>\n",
       "      <td>0.000000</td>\n",
       "      <td>0.000000</td>\n",
       "      <td>0.000000</td>\n",
       "      <td>0.000000</td>\n",
       "      <td>0.000000</td>\n",
       "      <td>8.042516</td>\n",
       "      <td>3164.679245</td>\n",
       "      <td>11698.462430</td>\n",
       "    </tr>\n",
       "    <tr>\n",
       "      <th>75%</th>\n",
       "      <td>42.130840</td>\n",
       "      <td>-80.602785</td>\n",
       "      <td>3.000000</td>\n",
       "      <td>72.000000</td>\n",
       "      <td>54924.115000</td>\n",
       "      <td>0.0</td>\n",
       "      <td>19.418254</td>\n",
       "      <td>6.000000</td>\n",
       "      <td>2.000000</td>\n",
       "      <td>1.000000</td>\n",
       "      <td>...</td>\n",
       "      <td>1.00000</td>\n",
       "      <td>1.000000</td>\n",
       "      <td>1.000000</td>\n",
       "      <td>1.000000</td>\n",
       "      <td>1.000000</td>\n",
       "      <td>1.000000</td>\n",
       "      <td>1.000000</td>\n",
       "      <td>12.711671</td>\n",
       "      <td>3628.550654</td>\n",
       "      <td>16493.908180</td>\n",
       "    </tr>\n",
       "    <tr>\n",
       "      <th>max</th>\n",
       "      <td>70.560990</td>\n",
       "      <td>-66.247510</td>\n",
       "      <td>10.000000</td>\n",
       "      <td>89.000000</td>\n",
       "      <td>204542.410000</td>\n",
       "      <td>0.0</td>\n",
       "      <td>24.565463</td>\n",
       "      <td>9.000000</td>\n",
       "      <td>7.000000</td>\n",
       "      <td>3.000000</td>\n",
       "      <td>...</td>\n",
       "      <td>1.00000</td>\n",
       "      <td>1.000000</td>\n",
       "      <td>1.000000</td>\n",
       "      <td>1.000000</td>\n",
       "      <td>1.000000</td>\n",
       "      <td>1.000000</td>\n",
       "      <td>1.000000</td>\n",
       "      <td>35.269743</td>\n",
       "      <td>5572.846022</td>\n",
       "      <td>30087.650940</td>\n",
       "    </tr>\n",
       "  </tbody>\n",
       "</table>\n",
       "<p>8 rows × 25 columns</p>\n",
       "</div>"
      ],
      "text/plain": [
       "               Lat          Lng    Children          Age         Income  \\\n",
       "count  1000.000000  1000.000000  993.000000  1000.000000    1000.000000   \n",
       "mean     38.989277   -91.165542    2.103726    54.084000   40653.044950   \n",
       "std       5.504177    15.451957    2.239293    20.903203   28370.102213   \n",
       "min      18.010230  -171.688150    0.000000    18.000000     154.080000   \n",
       "25%      35.673860   -96.840598    0.000000    36.750000   19295.567500   \n",
       "50%      39.524835   -88.242890    1.000000    55.000000   34222.550000   \n",
       "75%      42.130840   -80.602785    3.000000    72.000000   54924.115000   \n",
       "max      70.560990   -66.247510   10.000000    89.000000  204542.410000   \n",
       "\n",
       "       ReAdmis  VitD_levels   Doc_visits  Full_meals_eaten    vitD_supp  ...  \\\n",
       "count   1000.0  1000.000000  1000.000000       1000.000000  1000.000000  ...   \n",
       "mean       0.0    17.992381     4.992000          1.024000     0.366000  ...   \n",
       "std        0.0     2.056366     1.048349          1.013139     0.598667  ...   \n",
       "min        0.0    11.475314     2.000000          0.000000     0.000000  ...   \n",
       "25%        0.0    16.620469     4.000000          0.000000     0.000000  ...   \n",
       "50%        0.0    18.020163     5.000000          1.000000     0.000000  ...   \n",
       "75%        0.0    19.418254     6.000000          2.000000     1.000000  ...   \n",
       "max        0.0    24.565463     9.000000          7.000000     3.000000  ...   \n",
       "\n",
       "        Diabetes  Hyperlipidemia    BackPain     Anxiety  Allergic_rhinitis  \\\n",
       "count  994.00000      998.000000  992.000000  998.000000         994.000000   \n",
       "mean     0.28169        0.346693    0.414315    0.326653           0.396378   \n",
       "std      0.45005        0.476156    0.492852    0.469224           0.489391   \n",
       "min      0.00000        0.000000    0.000000    0.000000           0.000000   \n",
       "25%      0.00000        0.000000    0.000000    0.000000           0.000000   \n",
       "50%      0.00000        0.000000    0.000000    0.000000           0.000000   \n",
       "75%      1.00000        1.000000    1.000000    1.000000           1.000000   \n",
       "max      1.00000        1.000000    1.000000    1.000000           1.000000   \n",
       "\n",
       "       Reflux_esophagitis       Asthma  Initial_days  TotalCharge  \\\n",
       "count         1000.000000  1000.000000   1000.000000  1000.000000   \n",
       "mean             0.422000     0.308000      9.267176  3240.971613   \n",
       "std              0.494126     0.461898      6.030931   600.413722   \n",
       "min              0.000000     0.000000      1.012586  2022.650007   \n",
       "25%              0.000000     0.000000      4.518085  2822.108670   \n",
       "50%              0.000000     0.000000      8.042516  3164.679245   \n",
       "75%              1.000000     1.000000     12.711671  3628.550654   \n",
       "max              1.000000     1.000000     35.269743  5572.846022   \n",
       "\n",
       "       Additional_charges  \n",
       "count         1000.000000  \n",
       "mean         13124.934863  \n",
       "std           6677.691402  \n",
       "min           3241.339760  \n",
       "25%           8121.383834  \n",
       "50%          11698.462430  \n",
       "75%          16493.908180  \n",
       "max          30087.650940  \n",
       "\n",
       "[8 rows x 25 columns]"
      ]
     },
     "execution_count": 6,
     "metadata": {},
     "output_type": "execute_result"
    }
   ],
   "source": [
    "df.describe()"
   ]
  },
  {
   "cell_type": "code",
   "execution_count": 7,
   "id": "0b8f53c5",
   "metadata": {},
   "outputs": [
    {
     "data": {
      "text/plain": [
       "TX    54\n",
       "CA    52\n",
       "NY    51\n",
       "OH    48\n",
       "PA    45\n",
       "IL    40\n",
       "FL    35\n",
       "VA    34\n",
       "KS    32\n",
       "IA    30\n",
       "MN    28\n",
       "WV    28\n",
       "MI    27\n",
       "OK    27\n",
       "MO    26\n",
       "NC    26\n",
       "NJ    22\n",
       "WI    22\n",
       "KY    19\n",
       "AL    19\n",
       "WA    19\n",
       "NE    19\n",
       "TN    19\n",
       "OR    18\n",
       "IN    18\n",
       "AR    17\n",
       "GA    16\n",
       "ME    14\n",
       "AZ    14\n",
       "MS    14\n",
       "NM    12\n",
       "SD    12\n",
       "ID    11\n",
       "CO    11\n",
       "ND    11\n",
       "NH    11\n",
       "SC    11\n",
       "MA    11\n",
       "MD    10\n",
       "LA    10\n",
       "AK     9\n",
       "MT     9\n",
       "CT     9\n",
       "VT     5\n",
       "UT     5\n",
       "RI     3\n",
       "PR     3\n",
       "NV     3\n",
       "DC     2\n",
       "HI     2\n",
       "WY     2\n",
       "Name: State, dtype: int64"
      ]
     },
     "execution_count": 7,
     "metadata": {},
     "output_type": "execute_result"
    }
   ],
   "source": [
    "df['State'].value_counts()"
   ]
  },
  {
   "cell_type": "code",
   "execution_count": 8,
   "id": "81d45543",
   "metadata": {},
   "outputs": [
    {
     "name": "stdout",
     "output_type": "stream",
     "text": [
      "<class 'pandas.core.frame.DataFrame'>\n",
      "RangeIndex: 1000 entries, 0 to 999\n",
      "Data columns (total 32 columns):\n",
      " #   Column              Non-Null Count  Dtype  \n",
      "---  ------              --------------  -----  \n",
      " 0   State               995 non-null    object \n",
      " 1   Lat                 1000 non-null   float64\n",
      " 2   Lng                 1000 non-null   float64\n",
      " 3   Area                995 non-null    object \n",
      " 4   Children            993 non-null    float64\n",
      " 5   Age                 1000 non-null   int64  \n",
      " 6   Income              1000 non-null   float64\n",
      " 7   Marital             995 non-null    object \n",
      " 8   Gender              995 non-null    object \n",
      " 9   ReAdmis             1000 non-null   int64  \n",
      " 10  VitD_levels         1000 non-null   float64\n",
      " 11  Doc_visits          1000 non-null   int64  \n",
      " 12  Full_meals_eaten    1000 non-null   int64  \n",
      " 13  vitD_supp           1000 non-null   int64  \n",
      " 14  Soft_drink          1000 non-null   int64  \n",
      " 15  Initial_admin       995 non-null    object \n",
      " 16  HighBlood           1000 non-null   int64  \n",
      " 17  Stroke              1000 non-null   int64  \n",
      " 18  Complication_risk   995 non-null    object \n",
      " 19  Overweight          1000 non-null   int64  \n",
      " 20  Arthritis           994 non-null    float64\n",
      " 21  Diabetes            994 non-null    float64\n",
      " 22  Hyperlipidemia      998 non-null    float64\n",
      " 23  BackPain            992 non-null    float64\n",
      " 24  Anxiety             998 non-null    float64\n",
      " 25  Allergic_rhinitis   994 non-null    float64\n",
      " 26  Reflux_esophagitis  1000 non-null   int64  \n",
      " 27  Asthma              1000 non-null   int64  \n",
      " 28  Services            995 non-null    object \n",
      " 29  Initial_days        1000 non-null   float64\n",
      " 30  TotalCharge         1000 non-null   float64\n",
      " 31  Additional_charges  1000 non-null   float64\n",
      "dtypes: float64(14), int64(11), object(7)\n",
      "memory usage: 250.1+ KB\n"
     ]
    }
   ],
   "source": [
    "df.info()"
   ]
  },
  {
   "cell_type": "code",
   "execution_count": 9,
   "id": "9b76db8a",
   "metadata": {},
   "outputs": [
    {
     "name": "stdout",
     "output_type": "stream",
     "text": [
      "State\n",
      "Lat\n",
      "Lng\n",
      "Area\n",
      "Children\n",
      "Age\n",
      "Income\n",
      "Marital\n",
      "Gender\n",
      "ReAdmis\n",
      "VitD_levels\n",
      "Doc_visits\n",
      "Full_meals_eaten\n",
      "vitD_supp\n",
      "Soft_drink\n",
      "Initial_admin\n",
      "HighBlood\n",
      "Stroke\n",
      "Complication_risk\n",
      "Overweight\n",
      "Arthritis\n",
      "Diabetes\n",
      "Hyperlipidemia\n",
      "BackPain\n",
      "Anxiety\n",
      "Allergic_rhinitis\n",
      "Reflux_esophagitis\n",
      "Asthma\n",
      "Services\n",
      "Initial_days\n",
      "TotalCharge\n",
      "Additional_charges\n"
     ]
    }
   ],
   "source": [
    "for col in df.columns:\n",
    "    print(col)"
   ]
  },
  {
   "cell_type": "code",
   "execution_count": null,
   "id": "1d76f10f",
   "metadata": {},
   "outputs": [],
   "source": [
    "Visuals"
   ]
  },
  {
   "cell_type": "code",
   "execution_count": 18,
   "id": "7aa2cff5",
   "metadata": {},
   "outputs": [
    {
     "data": {
      "image/png": "[encoded data removed]",
      "text/plain": [
       "<Figure size 640x480 with 1 Axes>"
      ]
     },
     "metadata": {},
     "output_type": "display_data"
    }
   ],
   "source": [
    "df['VitD_levels'].hist();"
   ]
  },
  {
   "cell_type": "code",
   "execution_count": 19,
   "id": "c39b87d6",
   "metadata": {},
   "outputs": [
    {
     "data": {
      "image/png": "[encoded data removed]",
      "text/plain": [
       "<Figure size 640x480 with 1 Axes>"
      ]
     },
     "metadata": {},
     "output_type": "display_data"
    }
   ],
   "source": [
    "df['Doc_visits'].hist();"
   ]
  },
  {
   "cell_type": "code",
   "execution_count": 13,
   "id": "682d117b",
   "metadata": {},
   "outputs": [
    {
     "data": {
      "text/plain": [
       "<AxesSubplot:>"
      ]
     },
     "execution_count": 13,
     "metadata": {},
     "output_type": "execute_result"
    },
    {
     "data": {
      "image/png": "[encoded data removed]",
      "text/plain": [
       "<Figure size 640x480 with 1 Axes>"
      ]
     },
     "metadata": {},
     "output_type": "display_data"
    }
   ],
   "source": [
    "df['TotalCharge'].hist()"
   ]
  },
  {
   "cell_type": "markdown",
   "id": "25be7858",
   "metadata": {},
   "source": [
    "For each feature listed:\n",
    "\n",
    "-1.Plot a histogram with a kde (kernel density estimate)\n",
    "-2.Add a line for the mean (red)\n",
    "-3.Add a line for the median (green)\n",
    "-4.Add a line for for +1 std from the mean (black)\n",
    "-5.Add a line for the - 1 std from the mean (black)\n",
    "-6.Highlight the range between +1 and =1 std (yellow)\n",
    "-part B.Answer the following questions:\n",
    "-8.Is it Discrete or Continuous?\n",
    "-9.Does it have a skew? If so, which direction (+/-)\n",
    "-10.What type of kurtosis does it display? (Mesokurtic, Leptokurtic, Platykurtic)"
   ]
  },
  {
   "cell_type": "markdown",
   "id": "410437aa",
   "metadata": {},
   "source": [
    "## 1-6 for each of the columns above\n"
   ]
  },
  {
   "cell_type": "markdown",
   "id": "f743702d",
   "metadata": {},
   "source": [
    "Plot a histogram with a kde (kernel density estimate) -2.Add a line for the mean (red) -3.Add a line for the median (green) -4.Add a line for for +1 std from the mean (black) -5.Add a line for the - 1 std from the mean (black) -6.Highlight the range between +1 and =1 std (yellow) "
   ]
  },
  {
   "cell_type": "code",
   "execution_count": 27,
   "id": "c4055f36",
   "metadata": {},
   "outputs": [
    {
     "data": {
      "image/png": "[encoded data removed]",
      "text/plain": [
       "<Figure size 640x480 with 1 Axes>"
      ]
     },
     "metadata": {},
     "output_type": "display_data"
    }
   ],
   "source": [
    "sns.histplot(data=df, x='VitD_levels', kde=True);"
   ]
  },
  {
   "cell_type": "code",
   "execution_count": 28,
   "id": "3257e9e2",
   "metadata": {},
   "outputs": [
    {
     "ename": "AttributeError",
     "evalue": "'list' object has no attribute 'mean'",
     "output_type": "error",
     "traceback": [
      "\u001b[0;31m---------------------------------------------------------------------------\u001b[0m",
      "\u001b[0;31mAttributeError\u001b[0m                            Traceback (most recent call last)",
      "Input \u001b[0;32mIn [28]\u001b[0m, in \u001b[0;36m<cell line: 1>\u001b[0;34m()\u001b[0m\n\u001b[0;32m----> 1\u001b[0m sns\u001b[38;5;241m.\u001b[39mhistplot(data\u001b[38;5;241m=\u001b[39mdf, x\u001b[38;5;241m=\u001b[39m\u001b[43m[\u001b[49m\u001b[38;5;124;43m'\u001b[39;49m\u001b[38;5;124;43mVitD_levels\u001b[39;49m\u001b[38;5;124;43m'\u001b[39;49m\u001b[43m]\u001b[49m\u001b[38;5;241;43m.\u001b[39;49m\u001b[43mmean\u001b[49m, kde\u001b[38;5;241m=\u001b[39m\u001b[38;5;28;01mTrue\u001b[39;00m)\n",
      "\u001b[0;31mAttributeError\u001b[0m: 'list' object has no attribute 'mean'"
     ]
    }
   ],
   "source": [
    "sns.histplot(data=df, x=['VitD_levels'].mean, kde=True);"
   ]
  },
  {
   "cell_type": "code",
   "execution_count": 30,
   "id": "ca36f442",
   "metadata": {},
   "outputs": [
    {
     "data": {
      "text/plain": [
       "NormaltestResult(statistic=0.039721627680133466, pvalue=0.9803351128910952)"
      ]
     },
     "execution_count": 30,
     "metadata": {},
     "output_type": "execute_result"
    }
   ],
   "source": [
    "stats.normaltest(df['VitD_levels'])"
   ]
  },
  {
   "cell_type": "code",
   "execution_count": 34,
   "id": "87b226f3",
   "metadata": {},
   "outputs": [
    {
     "data": {
      "text/plain": [
       "count    1000.000000\n",
       "mean       17.992381\n",
       "std         2.056366\n",
       "min        11.475314\n",
       "25%        16.620469\n",
       "50%        18.020163\n",
       "75%        19.418254\n",
       "max        24.565463\n",
       "Name: VitD_levels, dtype: float64"
      ]
     },
     "execution_count": 34,
     "metadata": {},
     "output_type": "execute_result"
    }
   ],
   "source": [
    "df['VitD_levels'].describe()"
   ]
  },
  {
   "cell_type": "code",
   "execution_count": 35,
   "id": "3d355fc5",
   "metadata": {},
   "outputs": [],
   "source": [
    "dist_stats=df['VitD_levels'].agg(['mean','min','std', 'max'])"
   ]
  },
  {
   "cell_type": "code",
   "execution_count": null,
   "id": "e8ceb142",
   "metadata": {},
   "outputs": [],
   "source": []
  }
 ],
 "metadata": {
  "kernelspec": {
   "display_name": "Python (dojo-env)",
   "language": "python",
   "name": "dojo-env"
  },
  "language_info": {
   "codemirror_mode": {
    "name": "ipython",
    "version": 3
   },
   "file_extension": ".py",
   "mimetype": "text/x-python",
   "name": "python",
   "nbconvert_exporter": "python",
   "pygments_lexer": "ipython3",
   "version": "3.8.13"
  },
  "toc": {
   "base_numbering": 1,
   "nav_menu": {},
   "number_sections": false,
   "sideBar": true,
   "skip_h1_title": false,
   "title_cell": "Table of Contents",
   "title_sidebar": "Contents",
   "toc_cell": false,
   "toc_position": {},
   "toc_section_display": true,
   "toc_window_display": false
  }
 },
 "nbformat": 4,
 "nbformat_minor": 5
}
